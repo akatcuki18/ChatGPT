{
  "nbformat": 4,
  "nbformat_minor": 0,
  "metadata": {
    "colab": {
      "provenance": [],
      "authorship_tag": "ABX9TyMDjdSRTKKUUKcxX6O6ffcj",
      "include_colab_link": true
    },
    "kernelspec": {
      "name": "python3",
      "display_name": "Python 3"
    },
    "language_info": {
      "name": "python"
    }
  },
  "cells": [
    {
      "cell_type": "markdown",
      "metadata": {
        "id": "view-in-github",
        "colab_type": "text"
      },
      "source": [
        "<a href=\"https://colab.research.google.com/github/akatcuki18/ChatGPT/blob/main/TensorFlow_Learning.ipynb\" target=\"_parent\"><img src=\"https://colab.research.google.com/assets/colab-badge.svg\" alt=\"Open In Colab\"/></a>"
      ]
    },
    {
      "cell_type": "code",
      "execution_count": 1,
      "metadata": {
        "id": "W4OorOBuhtVM",
        "colab": {
          "base_uri": "https://localhost:8080/"
        },
        "outputId": "759933b1-ee95-4c7a-f72e-5275e068668a"
      },
      "outputs": [
        {
          "output_type": "stream",
          "name": "stdout",
          "text": [
            "Requirement already satisfied: numpy in /usr/local/lib/python3.10/dist-packages (1.25.2)\n"
          ]
        }
      ],
      "source": [
        "!pip install numpy"
      ]
    },
    {
      "cell_type": "code",
      "source": [
        "#Build model\n",
        "import tensorflow as tf\n",
        "from tensorflow import keras\n",
        "NB_CLASSES = 10\n",
        "RESHAPED = 784\n",
        "model = tf.keras.models.Sequential()\n",
        "model.add(keras.layers.Dense(NB_CLASSES,\n",
        "                             input_shape=(RESHAPED,), kernel_initializer='zeros',\n",
        "                             name='dense_layer', activation='softmax'))"
      ],
      "metadata": {
        "id": "X5GVApEliDqN"
      },
      "execution_count": null,
      "outputs": []
    },
    {
      "cell_type": "code",
      "source": [
        "import tensorflow as tf\n",
        "import numpy as np\n",
        "from tensorflow import keras\n",
        "\n",
        "# Network and"
      ],
      "metadata": {
        "id": "3OE67Wwptmn6"
      },
      "execution_count": null,
      "outputs": []
    },
    {
      "cell_type": "code",
      "source": [
        "import os\n",
        "import cv2\n",
        "import numpy as np\n",
        "\n",
        "# Set the input and output directories\n",
        "input_dir = 'sample_data/in'\n",
        "output_dir = 'sample_data/out/'\n",
        "\n",
        "# Create the output directory if it doesn't exist\n",
        "if not os.path.exists(output_dir):\n",
        "    os.makedirs(output_dir)\n",
        "\n",
        "# Loop through all files in the input directory\n",
        "for filename in os.listdir(input_dir):\n",
        "    # Check if the file is an image (JPG, PNG, etc.)\n",
        "    if any(filename.endswith(ext) for ext in ['.jpg', '.png', '.jpeg', '.JPG', '.PNG', '.JPEG']):\n",
        "        # Load the image\n",
        "        img_path = os.path.join(input_dir, filename)\n",
        "        img = cv2.imread(img_path)\n",
        "\n",
        "        # Convert the image to grayscale\n",
        "        gray = cv2.cvtColor(img, cv2.COLOR_BGR2GRAY)\n",
        "\n",
        "        # Resize the image to 28x28\n",
        "        resized = cv2.resize(gray, (28, 28), interpolation=cv2.INTER_AREA)\n",
        "\n",
        "        # Save the resized image as a NumPy array\n",
        "        output_filename = os.path.splitext(filename)[0] + '.npy'\n",
        "        output_path = os.path.join(output_dir, output_filename)\n",
        "        np.save(output_path, resized)\n",
        "\n",
        "print('Conversion completed successfully!')"
      ],
      "metadata": {
        "colab": {
          "base_uri": "https://localhost:8080/"
        },
        "id": "aWtr36ghejSP",
        "outputId": "a662e255-8b28-479a-ed00-3912a9f64816"
      },
      "execution_count": 3,
      "outputs": [
        {
          "output_type": "stream",
          "name": "stdout",
          "text": [
            "Conversion completed successfully!\n"
          ]
        }
      ]
    },
    {
      "cell_type": "markdown",
      "source": [
        "# New section"
      ],
      "metadata": {
        "id": "x34h6RezvCmK"
      }
    },
    {
      "cell_type": "code",
      "source": [
        "from matplotlib import pyplot as plt\n",
        "import numpy as np\n",
        "import os\n",
        "\n",
        "# Set the input directory\n",
        "input_dir = 'sample_data/out/'\n",
        "\n",
        "# Ask the user for the filename\n",
        "filename = input(\"Enter the filename (without extension) you want to load: \")\n",
        "\n",
        "# Check if the file exists in the input directory\n",
        "file_path = os.path.join(input_dir, filename + \".npy\")\n",
        "if os.path.isfile(file_path):\n",
        "    # Load the NumPy array\n",
        "    img_array = np.load(file_path)\n",
        "\n",
        "    # Display the image\n",
        "    plt.imshow(img_array, cmap='gray')\n",
        "    plt.show()\n",
        "else:\n",
        "    print(f\"File '{filename}.npy' not found in '{input_dir}'\")"
      ],
      "metadata": {
        "colab": {
          "base_uri": "https://localhost:8080/",
          "height": 448
        },
        "id": "35tDpYQSejK9",
        "outputId": "a194d985-d3d1-44ac-f5ea-51dc8154bd21"
      },
      "execution_count": 4,
      "outputs": [
        {
          "name": "stdout",
          "output_type": "stream",
          "text": [
            "Enter the filename (without extension) you want to load: test (3)\n"
          ]
        },
        {
          "output_type": "display_data",
          "data": {
            "text/plain": [
              "<Figure size 640x480 with 1 Axes>"
            ],
            "image/png": "[encoded data removed]"
          },
          "metadata": {}
        }
      ]
    }
  ]
}